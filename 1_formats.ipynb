{
 "cells": [
  {
   "cell_type": "markdown",
   "id": "7a702e90-b006-4027-80f7-9c42cfe56c60",
   "metadata": {},
   "source": [
    "create an image with 5000 x 5000 pixels of all whites."
   ]
  },
  {
   "cell_type": "code",
   "execution_count": 1,
   "id": "46242688-b74a-44be-886f-612de7266168",
   "metadata": {},
   "outputs": [],
   "source": [
    "import skimage.io"
   ]
  },
  {
   "cell_type": "code",
   "execution_count": 2,
   "id": "2b4f0054-df6d-47a3-a5fd-5105498dfedb",
   "metadata": {},
   "outputs": [],
   "source": [
    "import numpy as np"
   ]
  },
  {
   "cell_type": "code",
   "execution_count": 3,
   "id": "da57f087-b497-4069-9ef8-f74a8994165e",
   "metadata": {},
   "outputs": [],
   "source": [
    "import matplotlib.pyplot as plt"
   ]
  },
  {
   "cell_type": "code",
   "execution_count": 4,
   "id": "9b777a11-8650-4f1b-9b19-063087c22d6b",
   "metadata": {},
   "outputs": [
    {
     "name": "stderr",
     "output_type": "stream",
     "text": [
      "/var/folders/3y/yvbw17hn423dqdggmwyx2w080000gp/T/ipykernel_1521/1542200194.py:6: UserWarning: /Users/ykang/ImgBasics/white.bmp is a low contrast image\n",
      "  skimage.io.imsave(fname=\"/Users/ykang/ImgBasics/white.bmp\", arr=img)\n",
      "/var/folders/3y/yvbw17hn423dqdggmwyx2w080000gp/T/ipykernel_1521/1542200194.py:7: UserWarning: /Users/ykang/ImgBasics/white.jpg is a low contrast image\n",
      "  skimage.io.imsave(fname=\"/Users/ykang/ImgBasics/white.jpg\", arr=img)\n"
     ]
    }
   ],
   "source": [
    "dim=5000  #set pixel numbers as dim.\n",
    "\n",
    "img=np.zeros((dim,dim,3), dtype=\"uint8\")   #make 5000x5000x3 3-D matrix with zeros called img. 8 bit image?\n",
    "img.fill(255)  #fill the matrix with 255. so each pixel has the RGB value (255,255,255), which is white.\n",
    "\n",
    "skimage.io.imsave(fname=\"/Users/ykang/ImgBasics/white.bmp\", arr=img)\n",
    "skimage.io.imsave(fname=\"/Users/ykang/ImgBasics/white.jpg\", arr=img)"
   ]
  },
  {
   "cell_type": "markdown",
   "id": "e0300dae-e3e0-4513-946e-76170dc58f4c",
   "metadata": {},
   "source": [
    "The BMP file, ws.bmp, is 75,000,054 bytes, which matches our prediction very nicely. The JPEG file, ws.jpg, is 392,503 bytes, two orders of magnitude smaller than the bitmap version."
   ]
  }
 ],
 "metadata": {
  "kernelspec": {
   "display_name": "Python 3 (ipykernel)",
   "language": "python",
   "name": "python3"
  },
  "language_info": {
   "codemirror_mode": {
    "name": "ipython",
    "version": 3
   },
   "file_extension": ".py",
   "mimetype": "text/x-python",
   "name": "python",
   "nbconvert_exporter": "python",
   "pygments_lexer": "ipython3",
   "version": "3.8.12"
  }
 },
 "nbformat": 4,
 "nbformat_minor": 5
}
